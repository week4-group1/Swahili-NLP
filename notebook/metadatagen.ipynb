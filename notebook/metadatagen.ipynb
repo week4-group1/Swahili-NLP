{
 "cells": [
  {
   "cell_type": "code",
   "execution_count": 1,
   "metadata": {},
   "outputs": [],
   "source": [
    "import os\n",
    "import shutil\n",
    "import json\n",
    "import logging"
   ]
  },
  {
   "cell_type": "code",
   "execution_count": 2,
   "metadata": {},
   "outputs": [],
   "source": [
    "directory=('../data/train/wav')\n",
    "files=[]\n",
    "target=('../data/alldata')"
   ]
  },
  {
   "cell_type": "code",
   "execution_count": 3,
   "metadata": {},
   "outputs": [
    {
     "ename": "FileNotFoundError",
     "evalue": "[WinError 3] The system cannot find the path specified: '../data/train/wav'",
     "output_type": "error",
     "traceback": [
      "\u001b[1;31m---------------------------------------------------------------------------\u001b[0m",
      "\u001b[1;31mFileNotFoundError\u001b[0m                         Traceback (most recent call last)",
      "\u001b[1;32m<ipython-input-3-5c03c52fe578>\u001b[0m in \u001b[0;36m<module>\u001b[1;34m\u001b[0m\n\u001b[1;32m----> 1\u001b[1;33m \u001b[1;32mfor\u001b[0m \u001b[0mfolders\u001b[0m \u001b[1;32min\u001b[0m \u001b[0mos\u001b[0m\u001b[1;33m.\u001b[0m\u001b[0mlistdir\u001b[0m\u001b[1;33m(\u001b[0m\u001b[0mdirectory\u001b[0m\u001b[1;33m)\u001b[0m\u001b[1;33m:\u001b[0m\u001b[1;33m\u001b[0m\u001b[1;33m\u001b[0m\u001b[0m\n\u001b[0m\u001b[0;32m      2\u001b[0m         \u001b[1;31m#try cacth erros\u001b[0m\u001b[1;33m\u001b[0m\u001b[1;33m\u001b[0m\u001b[1;33m\u001b[0m\u001b[0m\n\u001b[0;32m      3\u001b[0m         \u001b[1;32mtry\u001b[0m\u001b[1;33m:\u001b[0m\u001b[1;33m\u001b[0m\u001b[1;33m\u001b[0m\u001b[0m\n\u001b[0;32m      4\u001b[0m \u001b[1;33m\u001b[0m\u001b[0m\n\u001b[0;32m      5\u001b[0m             \u001b[1;31m#accessing subfolders inside train/wav directory\u001b[0m\u001b[1;33m\u001b[0m\u001b[1;33m\u001b[0m\u001b[1;33m\u001b[0m\u001b[0m\n",
      "\u001b[1;31mFileNotFoundError\u001b[0m: [WinError 3] The system cannot find the path specified: '../data/train/wav'"
     ]
    }
   ],
   "source": [
    "for folders in os.listdir(directory):\n",
    "        #try cacth erros\n",
    "        try:\n",
    "        \n",
    "            #accessing subfolders inside train/wav directory\n",
    "            subfolder = os.path.join(directory,folders)\n",
    "            \n",
    "            #looping through all contents in the subfolder\n",
    "            for wavz in os.listdir(subfolder):\n",
    "\n",
    "                files.append(wavz)\n",
    "                finalpath = os.path.join(subfolder,wavz)\n",
    "                #copying files to new audio_path\n",
    "                shutil.copy(finalpath, target)\n",
    "        except FileNotFoundError:\n",
    "            print(\" !!! Error File Not Found  !!!!! \\n\")\n",
    "            print(\" !!! Program Failed !!!!! \\n\")\n",
    "            logging.error(\" !!! Error Program Failed !!!!! \\n\")\n",
    "        except Exception as e:\n",
    "            print(\" !!! Error !!!!! \\n\")\n",
    "            "
   ]
  },
  {
   "cell_type": "code",
   "execution_count": null,
   "metadata": {},
   "outputs": [],
   "source": [
    "name_to_text={}"
   ]
  },
  {
   "cell_type": "code",
   "execution_count": null,
   "metadata": {},
   "outputs": [],
   "source": [
    "filename=('../data/train/text')\n",
    "with open (filename, encoding=\"utf-8\")as f:\n",
    "        try:\n",
    "            #open the txt file containnig file and matching text file\n",
    "            \n",
    "            f.readline()\n",
    "            for line in f:\n",
    "                #split first half to be the value and second part is the key/text\n",
    "                \n",
    "                name=line.split(\"\\t\")[-1]\n",
    "                name=name.rstrip()\n",
    "                file=line.split(\"\\t\")[0]\n",
    "                file=file+\".wav\"\n",
    "                length=len(name)         \n",
    "                name_to_text[file]=[name,length]\n",
    "            \n",
    "        except Exception as e:\n",
    "            print (\" !!!! Error !!!! \")\n",
    "            print (\" !!!! The system raised an exception {} !!!!!\".format(e.__class__))\n",
    "\n",
    "with open(\"../data/meta_data.json\", \"w\") as outfile: \n",
    "        json.dump(name_to_text, outfile)\n",
    "        \n",
    "        \n",
    "#function to get csv file with names \n",
    "def get_file():\n",
    "    #we convert the json file we got from the previous function into a dataframe\n",
    "    try:\n",
    "        print(\" ========= Converting dictionary to dataframe ================= \\n\")\n",
    "        logging.info(\"======= Converting dictionary to dataframe ================= \\n\")\n",
    "\n",
    "        data = pd.DataFrame.from_dict(name_to_text, orient ='index')\n",
    "        data=data.reset_index()\n",
    "        print(\"======= Creating columns ================= \\n\")\n",
    "        data.columns=['wav_file','text','length']\n",
    "        \n",
    "        data.to_csv(\"../data/merged_data.csv\",index=False)  \n",
    "    except Exception as e:\n",
    "        print (\" !!!! Error !!!! \")\n",
    "        print (\" !!!! The system raised an exception {} !!!!!\".format(e.__class__))"
   ]
  },
  {
   "cell_type": "code",
   "execution_count": null,
   "metadata": {},
   "outputs": [],
   "source": [
    "#function\n",
    "#before using this function kindly change your file paths for it to work\n",
    "\n",
    "\n",
    "def make_stereo(audio_path):\n",
    "    #this function converts mono audio channels into stereo channels \n",
    "#     logging.info(\" ============ Conerting audio sample from mono to stereo ================= \")\n",
    "    print(\"======= Mono to stereo audio conversion\")\n",
    "    ifile = wave.open(audio_path)\n",
    "    #log the info on adio files\n",
    "#     logging.info(ifile.getparams())\n",
    "    print (ifile.getparams())\n",
    "    # (1, 2, 44100, 2013900, 'NONE', 'not compressed')\n",
    "    (nchannels, sampwidth, framerate, nframes, comptype, compname) = ifile.getparams()\n",
    "    assert (comptype == 'NONE')  # Compressed not supported yet\n",
    "    array_type = {1:'B', 2: 'h', 4: 'l'}[sampwidth]\n",
    "    print(\" ======= Calculting left channel type =====\")\n",
    "    left_channel = array.array(array_type, ifile.readframes(nframes))[::nchannels]\n",
    "    ifile.close()\n",
    "\n",
    "    #convert the number of channels to 2\n",
    "    print(\"====== converting channels ======= \")\n",
    "    stereo = 2 * left_channel\n",
    "    stereo[0::2] = stereo[1::2] = left_channel\n",
    "    #overwrite the wav file making it a stereo file\n",
    "    print(\"====== overwriting wav file ======= \")\n",
    "    ofile = wave.open(audio_path, 'w')\n",
    "    ofile.setparams((2, sampwidth, framerate, nframes, comptype, compname))\n",
    "    ofile.writeframes(stereo.tostring())\n",
    "    ofile.close()"
   ]
  },
  {
   "cell_type": "code",
   "execution_count": null,
   "metadata": {},
   "outputs": [],
   "source": [
    "data['wav_file']=data['wav_file'].apply(lambda x: make_stereo(x))"
   ]
  }
 ],
 "metadata": {
  "interpreter": {
   "hash": "ad244426f359115d2c0499b23b7bb97e7c6e1bc225e7f39bb6d7e0b4ec820114"
  },
  "kernelspec": {
   "display_name": "Python 3",
   "language": "python",
   "name": "python3"
  },
  "language_info": {
   "codemirror_mode": {
    "name": "ipython",
    "version": 3
   },
   "file_extension": ".py",
   "mimetype": "text/x-python",
   "name": "python",
   "nbconvert_exporter": "python",
   "pygments_lexer": "ipython3",
   "version": "3.8.8"
  }
 },
 "nbformat": 4,
 "nbformat_minor": 2
}
