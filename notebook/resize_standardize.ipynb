{
 "cells": [
  {
   "cell_type": "code",
   "execution_count": null,
   "metadata": {
    "id": "Ct4ONRRWX9L9"
   },
   "outputs": [],
   "source": []
  },
  {
   "cell_type": "code",
   "execution_count": null,
   "metadata": {
    "id": "bNZ-uW6VTDpY"
   },
   "outputs": [],
   "source": [
    "import wave\n",
    "import os\n",
    "import librosa"
   ]
  },
  {
   "cell_type": "code",
   "execution_count": null,
   "metadata": {
    "id": "9AvTP8ecTFFP"
   },
   "outputs": [],
   "source": [
    "Path_to_train = \"train\\wav\"\n",
    "subfolders = os.listdir(Path_to_train)\n",
    "data = []\n",
    "for s in subfolders:\n",
    "    files = os.listdir(Path_to_train + \"/\" +s)\n",
    "    data.extend([Path_to_train + \"/\" + s+ \"/\" + f for f in files])\n",
    "data[:10]"
   ]
  },
  {
   "cell_type": "code",
   "execution_count": null,
   "metadata": {
    "id": "PeZyvnnJTFHf"
   },
   "outputs": [],
   "source": [
    "#read text from every transcription audio\n",
    "def read_text( text_path):\n",
    "    text = []\n",
    "    with open(text_path) as fp:\n",
    "        line = fp.readline()\n",
    "        while line:\n",
    "        # TODO: fix spaces in in amharic text\n",
    "            text.append(line)\n",
    "            line = fp.readline()\n",
    "    return text"
   ]
  },
  {
   "cell_type": "code",
   "execution_count": null,
   "metadata": {
    "id": "ykuyj212TFK-"
   },
   "outputs": [],
   "source": [
    "#extract the transcription and the label \n",
    "label=[]\n",
    "transcriptions = []\n",
    "for t in text:\n",
    "    sp = t.split(\"\\t\")\n",
    "    sp = sp.strip(\"\\n\")\n",
    "    if len(sp) > 1:\n",
    "        label.append(sp[0])\n",
    "        transcriptions.append(sp[1])\n",
    "transcriptions[:10]"
   ]
  },
  {
   "cell_type": "code",
   "execution_count": null,
   "metadata": {
    "id": "F8mqLRCHTY8L"
   },
   "outputs": [],
   "source": [
    "#get audio path , every path must corespond to transcription , get the transprion in the doc and append to audio path \n",
    "audio_path=[0]*len(transcriptions)\n",
    "for d in data:\n",
    "    _d = d.strip(\".wav\")\n",
    "    sp = _d.split(\"/\")[2]\n",
    "    index = label.index(sp)\n",
    "    audio_path[index] = d"
   ]
  },
  {
   "cell_type": "code",
   "execution_count": null,
   "metadata": {
    "id": "atBdLgb2TY_i"
   },
   "outputs": [],
   "source": [
    "#calculate duration \n",
    "duration_of_recordings=[]\n",
    "for d in audio_path:\n",
    "    audio, fs = librosa.load(d, sr=None)\n",
    "    duration_of_recordings.append(float(len(audio)/fs))"
   ]
  },
  {
   "cell_type": "code",
   "execution_count": null,
   "metadata": {
    "id": "SuUupPpyTZCP"
   },
   "outputs": [],
   "source": [
    "import pandas as pd \n",
    "data=pd.DataFrame({'key': audio_path,'text': transcriptions, 'duration':duration_of_recordings})"
   ]
  },
  {
   "cell_type": "markdown",
   "metadata": {
    "id": "LfqPBqisTsd0"
   },
   "source": []
  },
  {
   "cell_type": "markdown",
   "metadata": {
    "id": "3mNnSAu0rvhl"
   },
   "source": [
    "# Resize and standardize\n",
    "We resize all the audio samples to have the same length by either extending its duration by padding it with silence, or by truncating it.\n",
    "We use the right padding method\n",
    "\n",
    "Standardize the sample rate.\n"
   ]
  },
  {
   "cell_type": "code",
   "execution_count": null,
   "metadata": {
    "id": "NNbZwxa3TFOX"
   },
   "outputs": [],
   "source": [
    "# used to load audio file\n",
    "#specifying sample rate will resize all the files i.e Audio will be automatically resampled to the given rate\n",
    "class Loader:\n",
    "  def __init__(self, sample_rate,duration,mono):\n",
    "    self.sample_rate=sample_rate\n",
    "    self.duration=duration\n",
    "    self.mono=mono\n",
    "    self.channel = 2\n",
    "\n",
    "\n",
    "  def load(self,filepath):\n",
    "    sig, sr = torchaudio.load(filepath)\n",
    "    aud = sig, sr\n",
    "    return aud\n",
    "\n",
    "  #before using this function kindly change your file paths for it to work\n",
    "\n",
    "\n",
    "  def rechannel(self, aud):    #convert mono to stereo\n",
    "    # aud=self.aud\n",
    "    sig, sr = aud\n",
    "  \n",
    "\n",
    "    if (sig.shape[0] == self.channel):\n",
    "      # Nothing to do\n",
    "      return self.aud\n",
    "\n",
    "    if (self.channel == 1):\n",
    "      # Convert from stereo to mono by selecting only the first channel\n",
    "      resig = sig[:1, :]\n",
    "    else:\n",
    "      # Convert from mono to stereo by duplicating the first channel\n",
    "      resig = torch.cat([sig, sig])\n",
    "\n",
    "    aud = resig, sr\n",
    "  def resample(self,aud):                    #standardize sample rate\n",
    "    sig, sr = aud\n",
    "    \n",
    "    if (sr == self.sample_rate):\n",
    "      # Nothing to do\n",
    "      return aud\n",
    "\n",
    "    num_channels = sig.shape[0]\n",
    "    # Resample first channel\n",
    "    resig = torchaudio.transforms.Resample(sr, self.sample_rate)(sig[:1,:])\n",
    "    if (num_channels > 1):\n",
    "      # Resample the second channel and merge both channels\n",
    "      retwo = torchaudio.transforms.Resample(sr, self.sample_rate)(sig[1:,:])\n",
    "      resig = torch.cat([resig, retwo])\n",
    "      aud = resig, self.sample_rate\n",
    "    return aud\n",
    "\n",
    "  # ----------------------------\n",
    "  # Pad (or truncate) the signal to a fixed length 'max_ms' in milliseconds\n",
    "  # ----------------------------\n",
    "  def pad_trunc(self,aud):\n",
    "    sig, sr = aud\n",
    "    num_rows, sig_len = sig.shape\n",
    "    max_len = sr//1000 * self.duration\n",
    "\n",
    "    if (sig_len > max_len):\n",
    "      # Truncate the signal to the given length\n",
    "      sig = sig[:,:max_len]\n",
    "\n",
    "    elif (sig_len < max_len):\n",
    "      # Length of padding to add at the beginning and end of the signal\n",
    "      pad_begin_len = random.randint(0, max_len - sig_len)\n",
    "      pad_end_len = max_len - sig_len - pad_begin_len\n",
    "\n",
    "      # Pad with 0s\n",
    "      pad_begin = torch.zeros((num_rows, pad_begin_len))\n",
    "      pad_end = torch.zeros((num_rows, pad_end_len))\n",
    "\n",
    "      sig = torch.cat((pad_begin, sig, pad_end), 1)\n",
    "      aud = sig, sr\n",
    "    return aud"
   ]
  },
  {
   "cell_type": "code",
   "execution_count": null,
   "metadata": {
    "id": "MkLUE2j5TFS0"
   },
   "outputs": [],
   "source": [
    "class PreprocessingPipeline:\n",
    "    \n",
    "  '''Processes audio files in a directory by applying the following steps\n",
    "    1. Load the data, convert to stereo and resample sampling rate\n",
    "    2. Pad the audio\n",
    "  '''\n",
    "    def __init__(self):\n",
    "        self.padder=None\n",
    "        self._loader=None\n",
    "   \n",
    "\n",
    "    def process(self,audio_files_directory):\n",
    "        for root, directories, files in os.walk(audio_files_directory):\n",
    "            for filename in files:\n",
    "                filepath = os.path.join(root, filename)\n",
    "                self._process_file(filepath)\n",
    "                print(f\"Processed file {filepath}\")\n",
    "                self._convert_mfcc(filepath)\n",
    "    \n",
    "    def _process_file(self,filepath):     \n",
    "        signal=self.loader.load(filepath)\n",
    "        signal = self.loader.make_stereo(signal)\n",
    "        signal = self.loader.resample(signal)\n",
    "        signal= self.loader.pad_trunc(signal)\n",
    "        \n",
    "\n",
    " "
   ]
  },
  {
   "cell_type": "code",
   "execution_count": null,
   "metadata": {
    "id": "jeWtzfg9TFVS"
   },
   "outputs": [],
   "source": [
    "DURATION=4000\n",
    "SAMPLE_RATE=44100\n",
    "MONO=False"
   ]
  },
  {
   "cell_type": "code",
   "execution_count": null,
   "metadata": {
    "id": "ObprKDYvUPOb"
   },
   "outputs": [],
   "source": [
    "loader=Loader(SAMPLE_RATE, DURATION, MONO)"
   ]
  },
  {
   "cell_type": "code",
   "execution_count": null,
   "metadata": {
    "id": "SBtGze_5UPRG"
   },
   "outputs": [],
   "source": [
    "preprocessing_pipeline=PreprocessingPipeline()\n",
    "preprocessing_pipeline.loader=loader"
   ]
  },
  {
   "cell_type": "code",
   "execution_count": null,
   "metadata": {
    "id": "nf0oX_sfUPT-"
   },
   "outputs": [],
   "source": [
    "preprocessing_pipeline.process(Path_to_train)"
   ]
  },
  {
   "cell_type": "code",
   "execution_count": 5,
   "metadata": {},
   "outputs": [
    {
     "name": "stdout",
     "output_type": "stream",
     "text": [
      "done saving\n"
     ]
    }
   ],
   "source": [
    "#create spectogram and covert it to mfcc then save\n",
    "\n",
    "def gen_features(audio_files_directory, out_path):\n",
    "    sr = 44100\n",
    "    for root, directories, files in os.walk(audio_files_directory):\n",
    "        for filename in files:\n",
    "            audio_path = os.path.join(root, filename)\n",
    "            audio_out = os.path.join(out_path, filename)\n",
    "            audio_data, sr = librosa.load(audio_path) # getting y\n",
    "            spectogram = librosa.stft(audio_data)     \n",
    "            mfcc_feature_list = librosa.feature.mfcc(spectogram,sr=sr) # create mfcc features\n",
    "            np.savetxt(str(audio_out), spectogram, delimiter =\"\\t\")\n",
    "            print(\"done saving\")\n",
    "                                      \n",
    "a = \"C:\\\\Users\\\\cthru\\Documents\\\\psnl_projects\\\\10academy\\\\Swahili-NLP\\\\data\\\\train\\\\wav\"\n",
    "b = \"C:\\\\Users\\\\cthru\\\\Documents\\\\psnl_projects\\\\10academy\\\\Swahili-NLP\\\\data\\\\features\"\n",
    "        \n",
    "gen_features(a,b) "
   ]
  },
  {
   "cell_type": "code",
   "execution_count": null,
   "metadata": {},
   "outputs": [],
   "source": []
  }
 ],
 "metadata": {
  "colab": {
   "collapsed_sections": [],
   "name": "resize_standardize.ipynb",
   "provenance": []
  },
  "kernelspec": {
   "display_name": "Python 3",
   "language": "python",
   "name": "python3"
  },
  "language_info": {
   "codemirror_mode": {
    "name": "ipython",
    "version": 3
   },
   "file_extension": ".py",
   "mimetype": "text/x-python",
   "name": "python",
   "nbconvert_exporter": "python",
   "pygments_lexer": "ipython3",
   "version": "3.8.8"
  }
 },
 "nbformat": 4,
 "nbformat_minor": 1
}
