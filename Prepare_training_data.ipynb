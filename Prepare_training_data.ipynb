{
  "nbformat": 4,
  "nbformat_minor": 0,
  "metadata": {
    "colab": {
      "name": "Prepare training data.ipynb",
      "provenance": [],
      "authorship_tag": "ABX9TyMgw1ZEHMslbPgeY0fQef/q",
      "include_colab_link": true
    },
    "kernelspec": {
      "name": "python3",
      "display_name": "Python 3"
    },
    "language_info": {
      "name": "python"
    }
  },
  "cells": [
    {
      "cell_type": "markdown",
      "metadata": {
        "id": "view-in-github",
        "colab_type": "text"
      },
      "source": [
        "<a href=\"https://colab.research.google.com/github/bhirwa/Swahili-NLP/blob/dev_Boris/Prepare_training_data.ipynb\" target=\"_parent\"><img src=\"https://colab.research.google.com/assets/colab-badge.svg\" alt=\"Open In Colab\"/></a>"
      ]
    },
    {
      "cell_type": "code",
      "metadata": {
        "id": "JqVMxKIVDCJ3"
      },
      "source": [
        "from google.colab import drive"
      ],
      "execution_count": 1,
      "outputs": []
    },
    {
      "cell_type": "code",
      "metadata": {
        "colab": {
          "base_uri": "https://localhost:8080/"
        },
        "id": "UjwgByrVDF6D",
        "outputId": "bfc01b32-7def-4ffe-b921-8bc20e55bf82"
      },
      "source": [
        "drive.mount('/content/drive', force_remount=True)"
      ],
      "execution_count": 3,
      "outputs": [
        {
          "output_type": "stream",
          "text": [
            "Mounted at /content/drive\n"
          ],
          "name": "stdout"
        }
      ]
    },
    {
      "cell_type": "code",
      "metadata": {
        "colab": {
          "base_uri": "https://localhost:8080/",
          "height": 203
        },
        "id": "wBzrjO34DIdD",
        "outputId": "fa4ee5c4-fca1-4cd7-d353-e9fd06497d47"
      },
      "source": [
        "# ----------------------------\n",
        "# Prepare training data from Metadata file\n",
        "# ----------------------------\n",
        "import pandas as pd\n",
        "from pathlib import Path\n",
        "\n",
        "download_path = Path.cwd()/'drive/My Drive'\n",
        "\n",
        "# Read metadata file\n",
        "metadata_file = download_path/'dataS.csv'\n",
        "df = pd.read_csv(metadata_file)\n",
        "df.head()\n",
        "\n"
      ],
      "execution_count": 14,
      "outputs": [
        {
          "output_type": "execute_result",
          "data": {
            "text/html": [
              "<div>\n",
              "<style scoped>\n",
              "    .dataframe tbody tr th:only-of-type {\n",
              "        vertical-align: middle;\n",
              "    }\n",
              "\n",
              "    .dataframe tbody tr th {\n",
              "        vertical-align: top;\n",
              "    }\n",
              "\n",
              "    .dataframe thead th {\n",
              "        text-align: right;\n",
              "    }\n",
              "</style>\n",
              "<table border=\"1\" class=\"dataframe\">\n",
              "  <thead>\n",
              "    <tr style=\"text-align: right;\">\n",
              "      <th></th>\n",
              "      <th>SWH-05-20101106_16k-emission_swahili_05h30_-_06h00_tu_20101106_part100</th>\n",
              "      <th>yanayo andaliwa nami pendo pondo idhaa ya kiswahili</th>\n",
              "    </tr>\n",
              "  </thead>\n",
              "  <tbody>\n",
              "    <tr>\n",
              "      <th>0</th>\n",
              "      <td>SWH-05-20101106_16k-emission_swahili_05h30_-_0...</td>\n",
              "      <td>inayokutangazia moja kwa moja kutoka jijini da...</td>\n",
              "    </tr>\n",
              "    <tr>\n",
              "      <th>1</th>\n",
              "      <td>SWH-05-20101106_16k-emission_swahili_05h30_-_0...</td>\n",
              "      <td>juma hili bara la afrika limeshuhudia raia wa ...</td>\n",
              "    </tr>\n",
              "    <tr>\n",
              "      <th>2</th>\n",
              "      <td>SWH-05-20101106_16k-emission_swahili_05h30_-_0...</td>\n",
              "      <td>wakipiga kura ya maoni ilikufanya mabadiliko ya</td>\n",
              "    </tr>\n",
              "    <tr>\n",
              "      <th>3</th>\n",
              "      <td>SWH-05-20101106_16k-emission_swahili_05h30_-_0...</td>\n",
              "      <td>kule abidjan raia wa jiji hilo</td>\n",
              "    </tr>\n",
              "    <tr>\n",
              "      <th>4</th>\n",
              "      <td>SWH-05-20101106_16k-emission_swahili_05h30_-_0...</td>\n",
              "      <td>walipata fursa ya kutumia haki yao ya msingi</td>\n",
              "    </tr>\n",
              "  </tbody>\n",
              "</table>\n",
              "</div>"
            ],
            "text/plain": [
              "  SWH-05-20101106_16k-emission_swahili_05h30_-_06h00_tu_20101106_part100 yanayo andaliwa nami pendo pondo idhaa ya kiswahili\n",
              "0  SWH-05-20101106_16k-emission_swahili_05h30_-_0...                      inayokutangazia moja kwa moja kutoka jijini da... \n",
              "1  SWH-05-20101106_16k-emission_swahili_05h30_-_0...                      juma hili bara la afrika limeshuhudia raia wa ... \n",
              "2  SWH-05-20101106_16k-emission_swahili_05h30_-_0...                        wakipiga kura ya maoni ilikufanya mabadiliko ya \n",
              "3  SWH-05-20101106_16k-emission_swahili_05h30_-_0...                                         kule abidjan raia wa jiji hilo \n",
              "4  SWH-05-20101106_16k-emission_swahili_05h30_-_0...                           walipata fursa ya kutumia haki yao ya msingi "
            ]
          },
          "metadata": {
            "tags": []
          },
          "execution_count": 14
        }
      ]
    },
    {
      "cell_type": "code",
      "metadata": {
        "id": "utnB_C15FG8Y"
      },
      "source": [
        ""
      ],
      "execution_count": null,
      "outputs": []
    }
  ]
}